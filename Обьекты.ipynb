{
 "cells": [
  {
   "cell_type": "code",
   "execution_count": 7,
   "id": "7bbb513a",
   "metadata": {},
   "outputs": [
    {
     "name": "stdout",
     "output_type": "stream",
     "text": [
      "0\n"
     ]
    }
   ],
   "source": [
    "class Car:\n",
    "    def __init__(self):\n",
    "        self.sped = 0\n",
    "        self.rpm = 0\n",
    "    \n",
    "    def start (self):\n",
    "        self.rpm = 900\n",
    "    def stop(self):\n",
    "        self.rpm = 0\n",
    "        \n",
    "Lada = Car()\n",
    "print(Lada.rpm)"
   ]
  },
  {
   "cell_type": "code",
   "execution_count": 8,
   "id": "107382ed",
   "metadata": {},
   "outputs": [
    {
     "name": "stdout",
     "output_type": "stream",
     "text": [
      "900\n",
      "0\n"
     ]
    }
   ],
   "source": [
    "Lada.start()\n",
    "print(Lada.rpm)\n",
    "Lada.stop()\n",
    "print(Lada.rpm)"
   ]
  },
  {
   "cell_type": "code",
   "execution_count": 9,
   "id": "f3433a2c",
   "metadata": {},
   "outputs": [
    {
     "name": "stdout",
     "output_type": "stream",
     "text": [
      "Green\n"
     ]
    }
   ],
   "source": [
    "Lada.color = \"Green\"  #Можно добавлять атрибуты на горячуюю\n",
    "print(Lada.color)"
   ]
  },
  {
   "cell_type": "code",
   "execution_count": 10,
   "id": "dcef5ffe",
   "metadata": {},
   "outputs": [],
   "source": [
    "#Удалять атрибуты можно так\n",
    "del Lada.color\n",
    "#Но лучше так:"
   ]
  },
  {
   "cell_type": "code",
   "execution_count": 12,
   "id": "d65dbe5c",
   "metadata": {},
   "outputs": [
    {
     "name": "stdout",
     "output_type": "stream",
     "text": [
      "green\n"
     ]
    }
   ],
   "source": [
    "attr_name = \"color\"\n",
    "if not (hasattr(Lada, attr_name)):\n",
    "    setattr(Lada, attr_name, \"green\")\n",
    "    \n",
    "print(Lada.color)   "
   ]
  },
  {
   "cell_type": "code",
   "execution_count": 15,
   "id": "228ddc42",
   "metadata": {},
   "outputs": [
    {
     "ename": "AttributeError",
     "evalue": "'Car' object has no attribute 'color'",
     "output_type": "error",
     "traceback": [
      "\u001b[1;31m---------------------------------------------------------------------------\u001b[0m",
      "\u001b[1;31mAttributeError\u001b[0m                            Traceback (most recent call last)",
      "Cell \u001b[1;32mIn[15], line 3\u001b[0m\n\u001b[0;32m      1\u001b[0m \u001b[38;5;28;01mif\u001b[39;00m (\u001b[38;5;28mhasattr\u001b[39m(Lada, \u001b[38;5;124m'\u001b[39m\u001b[38;5;124mcolor\u001b[39m\u001b[38;5;124m'\u001b[39m)):\n\u001b[0;32m      2\u001b[0m     \u001b[38;5;28mdelattr\u001b[39m(Lada, \u001b[38;5;124m'\u001b[39m\u001b[38;5;124mcolor\u001b[39m\u001b[38;5;124m'\u001b[39m)\n\u001b[1;32m----> 3\u001b[0m \u001b[38;5;28mprint\u001b[39m(Lada\u001b[38;5;241m.\u001b[39mcolor)\n",
      "\u001b[1;31mAttributeError\u001b[0m: 'Car' object has no attribute 'color'"
     ]
    }
   ],
   "source": [
    "if (hasattr(Lada, 'color')):\n",
    "    delattr(Lada, 'color')\n",
    "print(Lada.color)    # AttributeError - Car' object has no attribute 'color'"
   ]
  },
  {
   "cell_type": "code",
   "execution_count": 21,
   "id": "8d4dfb41",
   "metadata": {},
   "outputs": [
    {
     "name": "stdout",
     "output_type": "stream",
     "text": [
      "Иду к  10 20\n",
      "Я тут:  10 20\n"
     ]
    }
   ],
   "source": [
    "class PointDot:\n",
    "    def __init__(self, x = 0, y = 0):\n",
    "        self.x = x\n",
    "        self.y = y\n",
    "     \n",
    "    def go(self,x ,y):\n",
    "        print(\"Иду к \", x , y)\n",
    "        self.x = x\n",
    "        self.y = y\n",
    "        \n",
    "    def where_me(self):\n",
    "        print(\"Я тут: \", self.x, self.y)\n",
    "        \n",
    "me = PointDot()\n",
    "me.go(x = 10, y = 20)\n",
    "me.where_me()"
   ]
  },
  {
   "cell_type": "code",
   "execution_count": 22,
   "id": "ba0f1e2b",
   "metadata": {},
   "outputs": [
    {
     "name": "stdout",
     "output_type": "stream",
     "text": [
      "Я тут:  100 200\n"
     ]
    }
   ],
   "source": [
    "you = PointDot(100,200)\n",
    "you.where_me()"
   ]
  },
  {
   "cell_type": "markdown",
   "id": "4468a478",
   "metadata": {},
   "source": [
    "### Наследование обьектов"
   ]
  },
  {
   "cell_type": "code",
   "execution_count": 23,
   "id": "21b834f4",
   "metadata": {},
   "outputs": [
    {
     "name": "stdout",
     "output_type": "stream",
     "text": [
      "Brand: Toyota, Year: 2022, Model: Camry\n",
      "Brand: Harley-Davidson, Year: 2021, Type: Cruiser\n"
     ]
    }
   ],
   "source": [
    "class Vehicle:\n",
    "    def __init__(self, brand, year): \n",
    "        self.brand = brand\n",
    "        self.year = year\n",
    "\n",
    "    def display_info(self):\n",
    "        print(f\"Brand: {self.brand}, Year: {self.year}\")\n",
    "\n",
    "class Car(Vehicle):\n",
    "    def __init__(self, brand, year, model):\n",
    "        super().__init__(brand, year)\n",
    "        self.model = model\n",
    "\n",
    "    def display_info(self):\n",
    "        print(f\"Brand: {self.brand}, Year: {self.year}, Model: {self.model}\")\n",
    "\n",
    "class Motorcycle(Vehicle):\n",
    "    def __init__(self, brand, year, type):\n",
    "        super().__init__(brand, year)\n",
    "        self.type = type\n",
    "\n",
    "    def display_info(self):\n",
    "        print(f\"Brand: {self.brand}, Year: {self.year}, Type: {self.type}\")\n",
    "\n",
    "car = Car(\"Toyota\", 2022, \"Camry\")\n",
    "motorcycle = Motorcycle(\"Harley-Davidson\", 2021, \"Cruiser\")\n",
    "\n",
    "car.display_info()\n",
    "motorcycle.display_info()"
   ]
  },
  {
   "cell_type": "markdown",
   "id": "13059240",
   "metadata": {},
   "source": [
    "### Атрибуты класса "
   ]
  },
  {
   "cell_type": "code",
   "execution_count": 24,
   "id": "9a938e66",
   "metadata": {},
   "outputs": [
    {
     "name": "stdout",
     "output_type": "stream",
     "text": [
      "Площадь circle1: 78.53975\n",
      "Площадь circle2: 153.93791\n",
      "Значение pi через circle1: 3.14159\n",
      "Значение pi через circle2: 3.14159\n",
      "Значение pi через класс: 3.14159\n",
      "Площадь circle1 после изменения pi: 78.5\n",
      "Площадь circle2 после изменения pi: 153.86\n"
     ]
    }
   ],
   "source": [
    "class Circle:\n",
    "    # Атрибут класса (общий для всех экземпляров)\n",
    "    pi = 3.14159\n",
    "\n",
    "    def __init__(self, radius):\n",
    "        self.radius = radius\n",
    "\n",
    "    def calculate_area(self):\n",
    "        return self.pi * self.radius ** 2\n",
    "\n",
    "# Создание экземпляров класса Circle\n",
    "circle1 = Circle(5)\n",
    "circle2 = Circle(7)\n",
    "\n",
    "# Вывод площадей кругов\n",
    "print(\"Площадь circle1:\", circle1.calculate_area())  # Площадь circle1: 78.53975\n",
    "print(\"Площадь circle2:\", circle2.calculate_area())  # Площадь circle2: 153.93804\n",
    "\n",
    "# Доступ к атрибуту класса через экземпляр\n",
    "print(\"Значение pi через circle1:\", circle1.pi)  # Значение pi через circle1: 3.14159\n",
    "print(\"Значение pi через circle2:\", circle2.pi)  # Значение pi через circle2: 3.14159\n",
    "\n",
    "# Доступ к атрибуту класса через сам класс\n",
    "print(\"Значение pi через класс:\", Circle.pi)  # Значение pi через класс: 3.14159\n",
    "\n",
    "# Изменение атрибута класса (влияет на все экземпляры)\n",
    "Circle.pi = 3.14\n",
    "\n",
    "# Вывод площадей после изменения значения атрибута класса\n",
    "print(\"Площадь circle1 после изменения pi:\", circle1.calculate_area())  # Площадь circle1 после изменения pi: 78.5\n",
    "print(\"Площадь circle2 после изменения pi:\", circle2.calculate_area())  # Площадь circle2 после изменения pi: 153.86\n"
   ]
  },
  {
   "cell_type": "code",
   "execution_count": null,
   "id": "6d1479b5",
   "metadata": {},
   "outputs": [],
   "source": []
  }
 ],
 "metadata": {
  "kernelspec": {
   "display_name": "Python 3 (ipykernel)",
   "language": "python",
   "name": "python3"
  },
  "language_info": {
   "codemirror_mode": {
    "name": "ipython",
    "version": 3
   },
   "file_extension": ".py",
   "mimetype": "text/x-python",
   "name": "python",
   "nbconvert_exporter": "python",
   "pygments_lexer": "ipython3",
   "version": "3.11.3"
  }
 },
 "nbformat": 4,
 "nbformat_minor": 5
}
