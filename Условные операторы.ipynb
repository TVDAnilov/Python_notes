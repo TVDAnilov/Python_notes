{
 "cells": [
  {
   "cell_type": "code",
   "execution_count": 9,
   "id": "a66e4ad4",
   "metadata": {},
   "outputs": [
    {
     "name": "stdout",
     "output_type": "stream",
     "text": [
      "Введите число: 40\n",
      "40\n",
      "Больше нуля\n"
     ]
    }
   ],
   "source": [
    "number = int(input(\"Введите число: \"))\n",
    "# Получаем число от пользователя\n",
    "print(number)\n",
    "if number > 0:\n",
    "    print(\"Больше нуля\")\n",
    "else:\n",
    "    print(\"Меньше нуля\")"
   ]
  },
  {
   "cell_type": "code",
   "execution_count": 21,
   "id": "a90df84b",
   "metadata": {},
   "outputs": [
    {
     "name": "stdout",
     "output_type": "stream",
     "text": [
      "Ваша оценка 3\n",
      "Нужно повторить весь материал...\n"
     ]
    }
   ],
   "source": [
    "grade = int(input(\"Ваша оценка \"))\n",
    "if grade == 5:\n",
    "    print(\"Круть!\")\n",
    "elif grade == 4:\n",
    "    print(\"Ну норм..\")\n",
    "elif grade == 3 or grade == 2 or grade == 1:\n",
    "    print(\"Нужно повторить весь материал...\")\n",
    "else:\n",
    "    print(\"Введено не корректное число\")"
   ]
  },
  {
   "cell_type": "code",
   "execution_count": 22,
   "id": "1602d3de",
   "metadata": {},
   "outputs": [
    {
     "name": "stdout",
     "output_type": "stream",
     "text": [
      "Введите ваш возраст: 19\n",
      "Вы можете работать.\n"
     ]
    }
   ],
   "source": [
    "# Получаем возраст от пользователя\n",
    "age = int(input(\"Введите ваш возраст: \"))\n",
    "\n",
    "# Проверяем условие с использованием оператора \"и\"\n",
    "if age >= 18 and age <= 60:\n",
    "    print(\"Вы можете работать.\")\n",
    "else:\n",
    "    print(\"Вы не можете работать в данной сфере.\")"
   ]
  },
  {
   "cell_type": "code",
   "execution_count": null,
   "id": "872c6e7a",
   "metadata": {},
   "outputs": [],
   "source": []
  }
 ],
 "metadata": {
  "kernelspec": {
   "display_name": "Python 3 (ipykernel)",
   "language": "python",
   "name": "python3"
  },
  "language_info": {
   "codemirror_mode": {
    "name": "ipython",
    "version": 3
   },
   "file_extension": ".py",
   "mimetype": "text/x-python",
   "name": "python",
   "nbconvert_exporter": "python",
   "pygments_lexer": "ipython3",
   "version": "3.11.3"
  }
 },
 "nbformat": 4,
 "nbformat_minor": 5
}
