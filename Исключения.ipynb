{
 "cells": [
  {
   "cell_type": "markdown",
   "id": "a2db41c8",
   "metadata": {},
   "source": [
    "### Исключения"
   ]
  },
  {
   "cell_type": "code",
   "execution_count": 1,
   "id": "db85f2f9",
   "metadata": {},
   "outputs": [
    {
     "name": "stdout",
     "output_type": "stream",
     "text": [
      "Ошибка деления на ноль!\n"
     ]
    }
   ],
   "source": [
    "try:\n",
    "    result = 10 / 0\n",
    "except ZeroDivisionError:\n",
    "    print(\"Ошибка деления на ноль!\")\n"
   ]
  },
  {
   "cell_type": "code",
   "execution_count": 2,
   "id": "d975c602",
   "metadata": {},
   "outputs": [
    {
     "name": "stdout",
     "output_type": "stream",
     "text": [
      "Индекс вне диапазона!\n"
     ]
    }
   ],
   "source": [
    "my_list = [1, 2, 3]\n",
    "try:\n",
    "    value = my_list[5]\n",
    "except IndexError:\n",
    "    print(\"Индекс вне диапазона!\")"
   ]
  },
  {
   "cell_type": "code",
   "execution_count": 3,
   "id": "c4accfe1",
   "metadata": {},
   "outputs": [
    {
     "name": "stdout",
     "output_type": "stream",
     "text": [
      "Ошибка преобразования строки в число!\n"
     ]
    }
   ],
   "source": [
    "try:\n",
    "    num = int(\"abc\")\n",
    "except ValueError:\n",
    "    print(\"Ошибка преобразования строки в число!\")\n"
   ]
  },
  {
   "cell_type": "code",
   "execution_count": 14,
   "id": "2384b678",
   "metadata": {},
   "outputs": [
    {
     "name": "stdout",
     "output_type": "stream",
     "text": [
      "Поймано исключение: Произошла моя ошибка\n"
     ]
    }
   ],
   "source": [
    "# Создание собственного исключения:\n",
    "class MyCustomError(Exception):\n",
    "    pass\n",
    "\n",
    "try:\n",
    "    raise MyCustomError(\"Произошла моя ошибка\")\n",
    "except MyCustomError as e:\n",
    "    print(f\"Поймано исключение: {e}\")\n",
    "\n"
   ]
  },
  {
   "cell_type": "code",
   "execution_count": 12,
   "id": "fd333851",
   "metadata": {},
   "outputs": [
    {
     "name": "stdout",
     "output_type": "stream",
     "text": [
      "Файл не найден\n"
     ]
    }
   ],
   "source": [
    "file = None\n",
    "try:\n",
    "    file = open(\"myfile.txt\", \"r\")\n",
    "    content = file.read()\n",
    "except FileNotFoundError:\n",
    "    print(\"Файл не найден\")\n",
    "finally:                     #Выполнится всегда, вне зависимости от исключения\n",
    "    if not file == None:\n",
    "        file.close()\n"
   ]
  },
  {
   "cell_type": "code",
   "execution_count": 13,
   "id": "5152d738",
   "metadata": {},
   "outputs": [
    {
     "name": "stdout",
     "output_type": "stream",
     "text": [
      "Ошибка преобразования строки в число!\n"
     ]
    }
   ],
   "source": [
    "# Обработка нескольких исключений:\n",
    "try:\n",
    "    value = int(\"abc\")\n",
    "except ValueError:\n",
    "    print(\"Ошибка преобразования строки в число!\")\n",
    "except IndexError:\n",
    "    print(\"Индекс вне диапазона!\")\n"
   ]
  },
  {
   "cell_type": "code",
   "execution_count": 15,
   "id": "1d299919",
   "metadata": {},
   "outputs": [
    {
     "name": "stdout",
     "output_type": "stream",
     "text": [
      "Результат: 5.0\n"
     ]
    }
   ],
   "source": [
    "# Использование else для блока без исключений:\n",
    "try:\n",
    "    result = 10 / 2\n",
    "except ZeroDivisionError:\n",
    "    print(\"Ошибка деления на ноль!\")\n",
    "else:\n",
    "    print(\"Результат:\", result)\n"
   ]
  },
  {
   "cell_type": "code",
   "execution_count": 16,
   "id": "28b84e6e",
   "metadata": {},
   "outputs": [
    {
     "name": "stdout",
     "output_type": "stream",
     "text": [
      "Ошибка преобразования строки в число или индекс вне диапазона!\n"
     ]
    }
   ],
   "source": [
    "#Множественное исключение в одном блоке except:\n",
    "try:\n",
    "    value = int(\"abc\")\n",
    "except (ValueError, IndexError):\n",
    "    print(\"Ошибка преобразования строки в число или индекс вне диапазона!\")\n"
   ]
  },
  {
   "cell_type": "code",
   "execution_count": 18,
   "id": "6f48310c",
   "metadata": {},
   "outputs": [
    {
     "name": "stdout",
     "output_type": "stream",
     "text": [
      "Введите число: cdc\n",
      "Некорректный ввод. Попробуйте снова.\n",
      "Введите число: qwr\\\n",
      "Некорректный ввод. Попробуйте снова.\n",
      "Введите число: 78\n"
     ]
    }
   ],
   "source": [
    "# Обработка исключений в цикле:\n",
    "while True:\n",
    "    try:\n",
    "        num = int(input(\"Введите число: \"))\n",
    "        break\n",
    "    except ValueError:\n",
    "        print(\"Некорректный ввод. Попробуйте снова.\")"
   ]
  },
  {
   "cell_type": "code",
   "execution_count": 19,
   "id": "c97c62a9",
   "metadata": {},
   "outputs": [
    {
     "name": "stdout",
     "output_type": "stream",
     "text": [
      "Файл не найден.\n"
     ]
    }
   ],
   "source": [
    "# Исключение FileNotFoundError при работе с файлами:\n",
    "try:\n",
    "    with open(\"nonexistent.txt\", \"r\") as file:\n",
    "        content = file.read()\n",
    "except FileNotFoundError:\n",
    "    print(\"Файл не найден.\")\n"
   ]
  },
  {
   "cell_type": "code",
   "execution_count": null,
   "id": "c02e333e",
   "metadata": {},
   "outputs": [],
   "source": []
  }
 ],
 "metadata": {
  "kernelspec": {
   "display_name": "Python 3 (ipykernel)",
   "language": "python",
   "name": "python3"
  },
  "language_info": {
   "codemirror_mode": {
    "name": "ipython",
    "version": 3
   },
   "file_extension": ".py",
   "mimetype": "text/x-python",
   "name": "python",
   "nbconvert_exporter": "python",
   "pygments_lexer": "ipython3",
   "version": "3.11.3"
  }
 },
 "nbformat": 4,
 "nbformat_minor": 5
}
