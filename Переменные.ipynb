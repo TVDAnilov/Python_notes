{
 "cells": [
  {
   "cell_type": "code",
   "execution_count": 1,
   "id": "2abf94ff",
   "metadata": {},
   "outputs": [],
   "source": [
    "age = 27"
   ]
  },
  {
   "cell_type": "code",
   "execution_count": 2,
   "id": "1752e712",
   "metadata": {},
   "outputs": [],
   "source": [
    "name = 'Timofei'"
   ]
  },
  {
   "cell_type": "code",
   "execution_count": 3,
   "id": "e3f0ca22",
   "metadata": {},
   "outputs": [],
   "source": [
    "last_name = \"Danilov\""
   ]
  },
  {
   "cell_type": "code",
   "execution_count": 4,
   "id": "fe01ebf6",
   "metadata": {},
   "outputs": [
    {
     "name": "stdout",
     "output_type": "stream",
     "text": [
      "Timofei Danilov\n"
     ]
    }
   ],
   "source": [
    "print(name, last_name)"
   ]
  },
  {
   "cell_type": "code",
   "execution_count": 5,
   "id": "da7ad1e6",
   "metadata": {},
   "outputs": [
    {
     "name": "stdout",
     "output_type": "stream",
     "text": [
      "27\n"
     ]
    }
   ],
   "source": [
    "print(age)"
   ]
  },
  {
   "cell_type": "code",
   "execution_count": 6,
   "id": "dde41ec7",
   "metadata": {},
   "outputs": [
    {
     "name": "stdout",
     "output_type": "stream",
     "text": [
      "Timofei Danilov  age =  27 old\n"
     ]
    }
   ],
   "source": [
    "print(name, last_name, \" age = \", age, \"old\")"
   ]
  },
  {
   "cell_type": "code",
   "execution_count": 8,
   "id": "2e2fc926",
   "metadata": {},
   "outputs": [
    {
     "name": "stdout",
     "output_type": "stream",
     "text": [
      "Timofei-27\n"
     ]
    }
   ],
   "source": [
    "print(name, age, sep=\"-\")"
   ]
  },
  {
   "cell_type": "code",
   "execution_count": 16,
   "id": "e037362d",
   "metadata": {},
   "outputs": [
    {
     "name": "stdout",
     "output_type": "stream",
     "text": [
      "Timofei=28\n"
     ]
    }
   ],
   "source": [
    "age = 28\n",
    "print(name, age, sep=\"=\")"
   ]
  },
  {
   "cell_type": "code",
   "execution_count": 17,
   "id": "2bf79167",
   "metadata": {},
   "outputs": [
    {
     "name": "stdout",
     "output_type": "stream",
     "text": [
      "28\n",
      "29\n"
     ]
    }
   ],
   "source": [
    "print(age)\n",
    "age += 1\n",
    "print(age)\n"
   ]
  },
  {
   "cell_type": "markdown",
   "id": "ecfd2387",
   "metadata": {},
   "source": [
    "*integer (int) \n",
    "*float (float)\n",
    "*string (str)\n",
    "*boolean (bool)"
   ]
  },
  {
   "cell_type": "code",
   "execution_count": 20,
   "id": "24b3cfff",
   "metadata": {},
   "outputs": [],
   "source": [
    "height = 170.5\n",
    "is_mail=False #True"
   ]
  },
  {
   "cell_type": "code",
   "execution_count": 21,
   "id": "6480dd15",
   "metadata": {},
   "outputs": [
    {
     "name": "stdout",
     "output_type": "stream",
     "text": [
      "<class 'str'>\n",
      "<class 'int'>\n",
      "<class 'float'>\n",
      "<class 'bool'>\n"
     ]
    }
   ],
   "source": [
    "print(type(name))\n",
    "print(type(age))\n",
    "print(type(height))\n",
    "print(type(is_mail))"
   ]
  },
  {
   "cell_type": "markdown",
   "id": "6aec2896",
   "metadata": {},
   "source": [
    "120р, 1уп = 18р. Сколько можно купить?"
   ]
  },
  {
   "cell_type": "code",
   "execution_count": 22,
   "id": "603fd740",
   "metadata": {},
   "outputs": [
    {
     "name": "stdout",
     "output_type": "stream",
     "text": [
      "6.666666666666667\n"
     ]
    }
   ],
   "source": [
    "n = 120 / 18\n",
    "print(n)"
   ]
  },
  {
   "cell_type": "code",
   "execution_count": 25,
   "id": "48e3a0a6",
   "metadata": {},
   "outputs": [
    {
     "name": "stdout",
     "output_type": "stream",
     "text": [
      "6\n"
     ]
    }
   ],
   "source": [
    "itog = int(n)\n",
    "print(itog)"
   ]
  },
  {
   "cell_type": "code",
   "execution_count": 28,
   "id": "49104772",
   "metadata": {},
   "outputs": [
    {
     "name": "stdout",
     "output_type": "stream",
     "text": [
      "Сколько? 50\n"
     ]
    }
   ],
   "source": [
    "k = input(\"Сколько? \") #50"
   ]
  },
  {
   "cell_type": "code",
   "execution_count": 31,
   "id": "aa8e78d2",
   "metadata": {},
   "outputs": [
    {
     "data": {
      "text/plain": [
       "str"
      ]
     },
     "execution_count": 31,
     "metadata": {},
     "output_type": "execute_result"
    }
   ],
   "source": [
    "type(k)"
   ]
  },
  {
   "cell_type": "code",
   "execution_count": 33,
   "id": "51904369",
   "metadata": {},
   "outputs": [
    {
     "name": "stdout",
     "output_type": "stream",
     "text": [
      "Сколько? 50\n"
     ]
    }
   ],
   "source": [
    "b = int(input(\"Сколько? \")) #50"
   ]
  },
  {
   "cell_type": "code",
   "execution_count": 34,
   "id": "f8053a51",
   "metadata": {},
   "outputs": [
    {
     "data": {
      "text/plain": [
       "int"
      ]
     },
     "execution_count": 34,
     "metadata": {},
     "output_type": "execute_result"
    }
   ],
   "source": [
    "type(b)"
   ]
  },
  {
   "cell_type": "code",
   "execution_count": 35,
   "id": "ef10f20d",
   "metadata": {},
   "outputs": [
    {
     "data": {
      "text/plain": [
       "str"
      ]
     },
     "execution_count": 35,
     "metadata": {},
     "output_type": "execute_result"
    }
   ],
   "source": [
    "int(k)\n",
    "type(k)"
   ]
  },
  {
   "cell_type": "code",
   "execution_count": 36,
   "id": "e5a3e534",
   "metadata": {},
   "outputs": [
    {
     "data": {
      "text/plain": [
       "True"
      ]
     },
     "execution_count": 36,
     "metadata": {},
     "output_type": "execute_result"
    }
   ],
   "source": [
    "int(k) > 0"
   ]
  },
  {
   "cell_type": "code",
   "execution_count": 37,
   "id": "775c864c",
   "metadata": {},
   "outputs": [
    {
     "name": "stdout",
     "output_type": "stream",
     "text": [
      "Рейтинг 1: 4.5\n",
      "Рейтинг 2: 3.2\n"
     ]
    }
   ],
   "source": [
    "raiting1  = float( input(\"Рейтинг 1: \"))\n",
    "raiting2  = float( input(\"Рейтинг 2: \"))"
   ]
  },
  {
   "cell_type": "code",
   "execution_count": 40,
   "id": "c10e4e66",
   "metadata": {},
   "outputs": [
    {
     "name": "stdout",
     "output_type": "stream",
     "text": [
      "3.85\n"
     ]
    }
   ],
   "source": [
    "ave_raiting = (raiting1 + raiting2) / 2\n",
    "print(ave_raiting)"
   ]
  },
  {
   "cell_type": "code",
   "execution_count": 41,
   "id": "a36a0f5e",
   "metadata": {},
   "outputs": [],
   "source": [
    "import os"
   ]
  },
  {
   "cell_type": "code",
   "execution_count": 42,
   "id": "b72d0b8b",
   "metadata": {},
   "outputs": [
    {
     "data": {
      "text/plain": [
       "'C:\\\\Users\\\\Python'"
      ]
     },
     "execution_count": 42,
     "metadata": {},
     "output_type": "execute_result"
    }
   ],
   "source": [
    "os.getcwd()"
   ]
  },
  {
   "cell_type": "code",
   "execution_count": null,
   "id": "0ec28ba7",
   "metadata": {},
   "outputs": [],
   "source": []
  }
 ],
 "metadata": {
  "kernelspec": {
   "display_name": "Python 3 (ipykernel)",
   "language": "python",
   "name": "python3"
  },
  "language_info": {
   "codemirror_mode": {
    "name": "ipython",
    "version": 3
   },
   "file_extension": ".py",
   "mimetype": "text/x-python",
   "name": "python",
   "nbconvert_exporter": "python",
   "pygments_lexer": "ipython3",
   "version": "3.11.3"
  }
 },
 "nbformat": 4,
 "nbformat_minor": 5
}
