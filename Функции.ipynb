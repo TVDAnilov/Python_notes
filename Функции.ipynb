{
 "cells": [
  {
   "cell_type": "code",
   "execution_count": 2,
   "id": "9784892a",
   "metadata": {},
   "outputs": [],
   "source": [
    "def say_hello():\n",
    "    print(\"Привет! Добро пожаловать.\")"
   ]
  },
  {
   "cell_type": "code",
   "execution_count": 3,
   "id": "971a6181",
   "metadata": {},
   "outputs": [
    {
     "name": "stdout",
     "output_type": "stream",
     "text": [
      "Привет! Добро пожаловать.\n"
     ]
    }
   ],
   "source": [
    "say_hello()"
   ]
  },
  {
   "cell_type": "code",
   "execution_count": 4,
   "id": "3a7bd2db",
   "metadata": {},
   "outputs": [],
   "source": [
    "def greet(name):\n",
    "    print(f\"Привет, {name}!\")"
   ]
  },
  {
   "cell_type": "code",
   "execution_count": 5,
   "id": "3d7f6930",
   "metadata": {},
   "outputs": [
    {
     "name": "stdout",
     "output_type": "stream",
     "text": [
      "Привет, Алиса!\n"
     ]
    }
   ],
   "source": [
    "greet(\"Алиса\")"
   ]
  },
  {
   "cell_type": "code",
   "execution_count": 6,
   "id": "ffdf07da",
   "metadata": {},
   "outputs": [],
   "source": [
    "def add(a, b):\n",
    "    return a + b"
   ]
  },
  {
   "cell_type": "code",
   "execution_count": 7,
   "id": "b8b55268",
   "metadata": {},
   "outputs": [
    {
     "name": "stdout",
     "output_type": "stream",
     "text": [
      "8\n"
     ]
    }
   ],
   "source": [
    "result = add(3, 5)\n",
    "print(result)"
   ]
  },
  {
   "cell_type": "code",
   "execution_count": 8,
   "id": "4f102616",
   "metadata": {},
   "outputs": [
    {
     "name": "stdout",
     "output_type": "stream",
     "text": [
      "10\n",
      "5\n",
      "10\n"
     ]
    }
   ],
   "source": [
    "global_var = 10\n",
    "\n",
    "def example_func():\n",
    "    local_var = 5\n",
    "    print(global_var)  # Можно обратиться к глобальной переменной\n",
    "    print(local_var)   # Можно обратиться к локальной переменной\n",
    "\n",
    "example_func()\n",
    "print(global_var)      # Можно обратиться к глобальной переменной\n",
    "# print(local_var)     # Ошибка, локальная переменная недоступна за пределами функции\n"
   ]
  },
  {
   "cell_type": "code",
   "execution_count": 9,
   "id": "d423491c",
   "metadata": {},
   "outputs": [
    {
     "name": "stdout",
     "output_type": "stream",
     "text": [
      "8\n",
      "6\n"
     ]
    }
   ],
   "source": [
    "def add(a, b):\n",
    "    return a + b\n",
    "\n",
    "def subtract(a, b):\n",
    "    return a - b\n",
    "\n",
    "def math_operation(operation, x, y):\n",
    "    return operation(x, y)\n",
    "\n",
    "result_add = math_operation(add, 3, 5)\n",
    "result_subtract = math_operation(subtract, 10, 4)\n",
    "\n",
    "print(result_add)        # Выведет: 8\n",
    "print(result_subtract)   # Выведет: 6\n"
   ]
  },
  {
   "cell_type": "markdown",
   "id": "0ea67836",
   "metadata": {},
   "source": [
    "### Анонимные функции (лямбда-функции) - это компактный способ определения функций без использования ключевого слова def. Они обычно используются вместе с функциями высшего порядка, которые принимают функции в качестве аргументов."
   ]
  },
  {
   "cell_type": "code",
   "execution_count": 10,
   "id": "6c8181e0",
   "metadata": {},
   "outputs": [
    {
     "name": "stdout",
     "output_type": "stream",
     "text": [
      "10\n"
     ]
    }
   ],
   "source": [
    "# Пример использования лямбда-функции для умножения на 2\n",
    "multiply_by_two = lambda x: x * 2\n",
    "\n",
    "print(multiply_by_two(5))  # Выведет: 10\n"
   ]
  },
  {
   "cell_type": "code",
   "execution_count": 11,
   "id": "dcca75ff",
   "metadata": {},
   "outputs": [
    {
     "name": "stdout",
     "output_type": "stream",
     "text": [
      "120\n"
     ]
    }
   ],
   "source": [
    "def factorial(n):\n",
    "    if n == 0:\n",
    "        return 1\n",
    "    else:\n",
    "        return n * factorial(n - 1)\n",
    "\n",
    "print(factorial(5))  # Выведет: 120\n"
   ]
  },
  {
   "cell_type": "markdown",
   "id": "d248ed7f",
   "metadata": {},
   "source": [
    "### Замыкания - это функции, которые запоминают значение переменных в своей области видимости, даже если эти переменные не существуют во время вызова функции."
   ]
  },
  {
   "cell_type": "code",
   "execution_count": 12,
   "id": "8acebd52",
   "metadata": {},
   "outputs": [
    {
     "name": "stdout",
     "output_type": "stream",
     "text": [
      "8\n",
      "15\n"
     ]
    }
   ],
   "source": [
    "def outer_function(x):\n",
    "    def inner_function(y):\n",
    "        return x + y\n",
    "    return inner_function\n",
    "\n",
    "add_five = outer_function(5)\n",
    "\n",
    "print(add_five(3))  # Выведет: 8\n",
    "print(add_five(10)) # Выведет: 15\n"
   ]
  },
  {
   "cell_type": "markdown",
   "id": "7c8257f8",
   "metadata": {},
   "source": [
    "В этом примере outer_function() создает функцию inner_function(), которая запоминает значение аргумента x из области видимости outer_function(). outer_function() возвращает inner_function, но не вызывает ее. outer_function() завершает свою работу и выходит из области видимости. Обычно мы бы ожидали, что переменная x была бы удалена после выхода из outer_function(), но в случае с замыканиями, это не происходит."
   ]
  },
  {
   "cell_type": "markdown",
   "id": "ec003e21",
   "metadata": {},
   "source": [
    "### Декораторы:\n",
    "\n",
    "Декораторы - это специальный синтаксис в Python, который позволяет изменять поведение функций. Декораторы используются для добавления дополнительной функциональности к существующим функциям без изменения их исходного кода."
   ]
  },
  {
   "cell_type": "code",
   "execution_count": 13,
   "id": "74fe21f1",
   "metadata": {},
   "outputs": [
    {
     "name": "stdout",
     "output_type": "stream",
     "text": [
      "ПРИВЕТ, ALICE!\n"
     ]
    }
   ],
   "source": [
    "def uppercase_decorator(func):\n",
    "    def wrapper(*args, **kwargs):\n",
    "        result = func(*args, **kwargs)\n",
    "        return result.upper()\n",
    "    return wrapper\n",
    "\n",
    "@uppercase_decorator\n",
    "def say_hello(name):\n",
    "    return f\"Привет, {name}!\"\n",
    "\n",
    "print(say_hello(\"Alice\"))  # Выведет: ПРИВЕТ, ALICE!\n"
   ]
  },
  {
   "cell_type": "code",
   "execution_count": null,
   "id": "f5d511fc",
   "metadata": {},
   "outputs": [],
   "source": [
    "В этом примере мы создаем декоратор uppercase_decorator, \n",
    "который принимает функцию func, оборачивает ее внутри функции wrapper, \n",
    "и возвращает обернутую функцию. Функция wrapper выполняет функцию func, \n",
    "а затем преобразует результат в верхний регистр с помощью метода upper(). \n",
    "Декоратор @uppercase_decorator применяется к функции say_hello, \n",
    "и теперь вызов функции say_hello() автоматически приводит результат \n",
    "к верхнему регистру."
   ]
  },
  {
   "cell_type": "code",
   "execution_count": 16,
   "id": "9efaa6a4",
   "metadata": {},
   "outputs": [
    {
     "name": "stdout",
     "output_type": "stream",
     "text": [
      "Hello, Alice!\n"
     ]
    }
   ],
   "source": [
    "def greeting_decorator(func):\n",
    "    def wrapper(*args, **kwargs):\n",
    "        result = func(*args, **kwargs)\n",
    "        return f\"Hello, {result}!\"\n",
    "    return wrapper\n",
    "\n",
    "@greeting_decorator\n",
    "def get_name(name):\n",
    "    return name\n",
    "\n",
    "print(get_name(\"Alice\"))  # Выведет: Hello, Alice!\n"
   ]
  },
  {
   "cell_type": "markdown",
   "id": "dd5b6510",
   "metadata": {},
   "source": [
    "Когда мы применяем декоратор с помощью @greeting_decorator к функции get_name, функция get_name фактически заменяется на новую функцию wrapper. Это создает замыкание, так как wrapper запоминает функцию get_name, а также любые переданные аргументы. После применения декоратора, вызов функции get_name(\"Alice\") фактически вызывает функцию wrapper(\"Alice\")."
   ]
  },
  {
   "cell_type": "markdown",
   "id": "b6d2744a",
   "metadata": {},
   "source": [
    "### Генераторы:\n",
    "\n",
    "Генераторы - это специальный тип функций, которые возвращают итераторы и могут быть использованы для создания последовательностей значений. Вместо возвращения результата с помощью return, генераторы используют ключевое слово yield.\n"
   ]
  },
  {
   "cell_type": "code",
   "execution_count": 14,
   "id": "8f5b8a9a",
   "metadata": {},
   "outputs": [
    {
     "name": "stdout",
     "output_type": "stream",
     "text": [
      "1\n",
      "2\n",
      "3\n",
      "4\n",
      "5\n"
     ]
    }
   ],
   "source": [
    "def count_up_to(n):\n",
    "    count = 1\n",
    "    while count <= n:\n",
    "        yield count\n",
    "        count += 1\n",
    "\n",
    "for num in count_up_to(5):\n",
    "    print(num)"
   ]
  },
  {
   "cell_type": "markdown",
   "id": "b995a29b",
   "metadata": {},
   "source": [
    "В этом примере мы определяем генератор count_up_to(), который генерирует последовательность чисел от 1 до n. Вместо создания списка всех чисел заранее, генератор возвращает значения по одному на каждой итерации цикла for. Это делает генераторы более эффективными для работы с большими последовательностями данных, так как они не требуют заранее выделения памяти для всего списка."
   ]
  },
  {
   "cell_type": "markdown",
   "id": "40c93833",
   "metadata": {},
   "source": [
    "### Частичное применение функций:\n",
    "\n",
    "Частичное применение функций - это метод создания новой функции, фиксируя некоторые аргументы существующей функции."
   ]
  },
  {
   "cell_type": "code",
   "execution_count": 15,
   "id": "ad3cceff",
   "metadata": {},
   "outputs": [
    {
     "name": "stdout",
     "output_type": "stream",
     "text": [
      "16\n",
      "27\n"
     ]
    }
   ],
   "source": [
    "from functools import partial\n",
    "\n",
    "def power(base, exponent):\n",
    "    return base ** exponent\n",
    "\n",
    "square = partial(power, exponent=2)\n",
    "cube = partial(power, exponent=3)\n",
    "\n",
    "print(square(4))  # Выведет: 16\n",
    "print(cube(3))    # Выведет: 27\n"
   ]
  },
  {
   "cell_type": "markdown",
   "id": "e88a9068",
   "metadata": {},
   "source": [
    "В этом примере мы используем функцию partial из модуля functools, чтобы создать новые функции square и cube, фиксируя аргумент exponent в 2 и 3 соответственно. Теперь функции square() и cube() являются частично примененными версиями функции power(), и мы можем использовать их для быстрого возведения чисел в степень 2 и 3."
   ]
  },
  {
   "cell_type": "markdown",
   "id": "e56a9025",
   "metadata": {},
   "source": [
    "### *args и **kwargs\n",
    "*args и **kwargs - это специальные параметры в определении функций в Python, которые позволяют работать с произвольным числом аргументов.\n",
    "\n",
    "    *args (аргументы кортежа):\n",
    "\n",
    "*args позволяет функции принимать произвольное количество позиционных аргументов и объединяет их в кортеж (tuple). Название args - это соглашение, и фактически это может быть любое другое имя, но общепринято использовать *args.\n",
    "\n",
    "Пример использования *args:"
   ]
  },
  {
   "cell_type": "code",
   "execution_count": 17,
   "id": "4efe8c23",
   "metadata": {},
   "outputs": [
    {
     "name": "stdout",
     "output_type": "stream",
     "text": [
      "10\n"
     ]
    }
   ],
   "source": [
    "def sum_values(*args):\n",
    "    total = 0\n",
    "    for num in args:\n",
    "        total += num\n",
    "    return total\n",
    "\n",
    "result = sum_values(1, 2, 3, 4)\n",
    "print(result)  # Выведет: 10\n"
   ]
  },
  {
   "cell_type": "markdown",
   "id": "e6218260",
   "metadata": {},
   "source": [
    "    **kwargs (аргументы словаря):\n",
    "\n",
    "**kwargs позволяет функции принимать произвольное количество именованных аргументов и объединяет их в словарь (dictionary). Название kwargs также является соглашением, и вы можете использовать другое имя, но общепринято использовать **kwargs.\n",
    "\n",
    "Пример использования **kwargs:"
   ]
  },
  {
   "cell_type": "code",
   "execution_count": 18,
   "id": "390e9b8b",
   "metadata": {},
   "outputs": [
    {
     "name": "stdout",
     "output_type": "stream",
     "text": [
      "name: Alice\n",
      "age: 30\n",
      "city: New York\n"
     ]
    }
   ],
   "source": [
    "def print_person_info(**kwargs):\n",
    "    for key, value in kwargs.items():\n",
    "        print(f\"{key}: {value}\")\n",
    "\n",
    "print_person_info(name=\"Alice\", age=30, city=\"New York\")"
   ]
  },
  {
   "cell_type": "markdown",
   "id": "ea4015f3",
   "metadata": {},
   "source": [
    "Оба параметра *args и **kwargs могут использоваться вместе с обычными параметрами функций. При определении функции, обычные параметры должны идти перед *args и **kwargs."
   ]
  },
  {
   "cell_type": "code",
   "execution_count": 19,
   "id": "28db23c4",
   "metadata": {},
   "outputs": [],
   "source": [
    "def example_func(arg1, arg2, *args, **kwargs):\n",
    "    # Тело функции\n",
    "    pass\n"
   ]
  },
  {
   "cell_type": "code",
   "execution_count": null,
   "id": "2ee68ebc",
   "metadata": {},
   "outputs": [],
   "source": []
  }
 ],
 "metadata": {
  "kernelspec": {
   "display_name": "Python 3 (ipykernel)",
   "language": "python",
   "name": "python3"
  },
  "language_info": {
   "codemirror_mode": {
    "name": "ipython",
    "version": 3
   },
   "file_extension": ".py",
   "mimetype": "text/x-python",
   "name": "python",
   "nbconvert_exporter": "python",
   "pygments_lexer": "ipython3",
   "version": "3.11.3"
  }
 },
 "nbformat": 4,
 "nbformat_minor": 5
}
