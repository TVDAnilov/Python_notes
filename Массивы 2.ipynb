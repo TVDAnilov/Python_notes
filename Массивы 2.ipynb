{
 "cells": [
  {
   "cell_type": "code",
   "execution_count": 5,
   "id": "983b3250",
   "metadata": {},
   "outputs": [
    {
     "name": "stdout",
     "output_type": "stream",
     "text": [
      "[0, 1, 2, 3, 4, 5, 6, 7, 8, 9]\n",
      "[0, 1, 2, 3, 4, 5, 6, 7, 8, 9]\n"
     ]
    }
   ],
   "source": [
    "list1 = list(range(10))\n",
    "list2 = list1\n",
    "print(list1)\n",
    "print(list2)"
   ]
  },
  {
   "cell_type": "code",
   "execution_count": 8,
   "id": "fa762a18",
   "metadata": {},
   "outputs": [
    {
     "name": "stdout",
     "output_type": "stream",
     "text": [
      "[0, 1, 2, 3, 4, 5, 6, 7, 8, 9, 100, 100]\n",
      "3106386581312\n",
      "3106386581312\n"
     ]
    }
   ],
   "source": [
    "list1.append(100) # list1 !!!\n",
    "print(list2) # list2 !!!\n",
    "print(id(list1)) # Потому что одинаковые id\n",
    "print(id(list2))"
   ]
  },
  {
   "cell_type": "code",
   "execution_count": 9,
   "id": "9889138e",
   "metadata": {},
   "outputs": [
    {
     "data": {
      "text/plain": [
       "[[], [], [], [], [], []]"
      ]
     },
     "execution_count": 9,
     "metadata": {},
     "output_type": "execute_result"
    }
   ],
   "source": [
    "[[],[]] * 3"
   ]
  },
  {
   "cell_type": "code",
   "execution_count": 29,
   "id": "4794f9ee",
   "metadata": {},
   "outputs": [
    {
     "name": "stdout",
     "output_type": "stream",
     "text": [
      "[[], [], [], [], [], [], [], [], [], []]\n",
      "[[], [], [], [], [], [], [], [], [], [], 100]\n",
      "[[42], [11], [42], [11], [42], [11], [42], [11], [42], [11], 100]\n",
      "[[42], [55], [42], [55], [42], [55], [42], [55], [42], [55], 100]\n"
     ]
    }
   ],
   "source": [
    "list3 = [[],[]] * 5 # [[0],[1]]\n",
    "print(list3)\n",
    "list3.append(100)\n",
    "print(list3)\n",
    "list3[0].append(42)\n",
    "list3[1].append(11)\n",
    "print(list3)\n",
    "# Сделать список списков умножением нельзя. В этом примере показано, что все ячейки \n",
    "# ссылаются на первые (исходные) [0],[1] и изменение одной из них, привеет к изменению всех.\n",
    "list3[3][0] = 55\n",
    "print(list3)"
   ]
  },
  {
   "cell_type": "code",
   "execution_count": 36,
   "id": "8fdcf99f",
   "metadata": {},
   "outputs": [
    {
     "name": "stdout",
     "output_type": "stream",
     "text": [
      "(1, 2, 3)\n",
      "3106389287296\n",
      "(1, 2, 3, 4, 5, 6)\n",
      "3106386925728\n"
     ]
    }
   ],
   "source": [
    "# кортеж - не изменяеый список\n",
    "# tuple()\n",
    "tuple1 = (1,2,3)\n",
    "print(tuple1)\n",
    "# tuple1.append(4) ошибка \n",
    "# tuple1[0] = 4 ошибка\n",
    "print(id(tuple1))\n",
    "tuple1 = tuple1 + (4, 5, 6)\n",
    "print(tuple1)\n",
    "print(id(tuple1))"
   ]
  },
  {
   "cell_type": "code",
   "execution_count": 38,
   "id": "32e517ba",
   "metadata": {},
   "outputs": [
    {
     "data": {
      "text/plain": [
       "{'Слон': 'элефант', 'Тигр': 'Тайгер'}"
      ]
     },
     "execution_count": 38,
     "metadata": {},
     "output_type": "execute_result"
    }
   ],
   "source": [
    "# Словари - ассоциативный список  dict{}\n",
    "box1 = {}\n",
    "box1['Слон'] = 'элефант'\n",
    "box1['Тигр'] = 'Тайгер'\n",
    "box1\n"
   ]
  },
  {
   "cell_type": "code",
   "execution_count": 39,
   "id": "a4e9659e",
   "metadata": {},
   "outputs": [
    {
     "data": {
      "text/plain": [
       "{'Слон': 'элефант', 'Тигр': 'Тайгер', 51: 25}"
      ]
     },
     "execution_count": 39,
     "metadata": {},
     "output_type": "execute_result"
    }
   ],
   "source": [
    "box1[51] = 25\n",
    "box1"
   ]
  },
  {
   "cell_type": "code",
   "execution_count": 40,
   "id": "26ca6f2a",
   "metadata": {},
   "outputs": [
    {
     "data": {
      "text/plain": [
       "True"
      ]
     },
     "execution_count": 40,
     "metadata": {},
     "output_type": "execute_result"
    }
   ],
   "source": [
    "'Слон' in box1 "
   ]
  },
  {
   "cell_type": "code",
   "execution_count": 41,
   "id": "01a037a8",
   "metadata": {},
   "outputs": [
    {
     "data": {
      "text/plain": [
       "{'Слон': 'элефант', 'Тигр': 'Тайгер', 51: 52}"
      ]
     },
     "execution_count": 41,
     "metadata": {},
     "output_type": "execute_result"
    }
   ],
   "source": [
    "box1[51] = 52\n",
    "box1"
   ]
  },
  {
   "cell_type": "code",
   "execution_count": 43,
   "id": "8d598db3",
   "metadata": {},
   "outputs": [
    {
     "name": "stdout",
     "output_type": "stream",
     "text": [
      "None\n"
     ]
    }
   ],
   "source": [
    "print(box1.get('Кот'))"
   ]
  },
  {
   "cell_type": "code",
   "execution_count": 44,
   "id": "68b64310",
   "metadata": {},
   "outputs": [
    {
     "name": "stdout",
     "output_type": "stream",
     "text": [
      "Мурзик\n"
     ]
    }
   ],
   "source": [
    "print(box1.get(\"Кот\", \"Мурзик\")) #Если нет ключа, создать со значением указанным во втором параметре."
   ]
  },
  {
   "cell_type": "code",
   "execution_count": 45,
   "id": "75f3be7a",
   "metadata": {},
   "outputs": [
    {
     "name": "stdout",
     "output_type": "stream",
     "text": [
      "элефант\n"
     ]
    }
   ],
   "source": [
    "print(box1.get(\"Слон\", \"Мурзик\"))"
   ]
  },
  {
   "cell_type": "code",
   "execution_count": 48,
   "id": "a8bc54b5",
   "metadata": {},
   "outputs": [
    {
     "name": "stdout",
     "output_type": "stream",
     "text": [
      "Васька\n",
      "Алекс\n"
     ]
    },
    {
     "data": {
      "text/plain": [
       "{'Слон': 'элефант', 'Тигр': 'Тайгер', 51: 52, 'Кот': 'Васька', 'Лев': 'Алекс'}"
      ]
     },
     "execution_count": 48,
     "metadata": {},
     "output_type": "execute_result"
    }
   ],
   "source": [
    "# SetDefault \n",
    "# добавит в словарь ключ и значение (из второго параметра), если его нет, \n",
    "# а так же заменит значение, если ключ в словаре есть\n",
    "print(box1.setdefault('Кот' , \"Васька\"))\n",
    "print(box1.setdefault('Лев' , \"Алекс\"))\n",
    "box1"
   ]
  },
  {
   "cell_type": "code",
   "execution_count": 50,
   "id": "db0567c0",
   "metadata": {},
   "outputs": [
    {
     "data": {
      "text/plain": [
       "{1, 2, 3, 10}"
      ]
     },
     "execution_count": 50,
     "metadata": {},
     "output_type": "execute_result"
    }
   ],
   "source": [
    "#Множества set() - включает только уникальные элементы\n",
    "set1 = set([1,2,3,10, 1,2,3,10])\n",
    "set10 = {1,2,3} # как словарь, но без :\n",
    "set1"
   ]
  },
  {
   "cell_type": "code",
   "execution_count": 51,
   "id": "e7e561c6",
   "metadata": {},
   "outputs": [],
   "source": [
    "set2 = set([1,2,3,4,5,6,7,8,9,10])"
   ]
  },
  {
   "cell_type": "code",
   "execution_count": 57,
   "id": "146a8f3d",
   "metadata": {},
   "outputs": [
    {
     "name": "stdout",
     "output_type": "stream",
     "text": [
      "{1, 2, 3, 4, 5, 6, 7, 8, 9, 10}\n",
      "{3, 1, 10, 2}\n",
      "{4, 5, 6, 7, 8, 9}\n"
     ]
    }
   ],
   "source": [
    "set3 = set1 | set2 # Обьединение\n",
    "print(set3)\n",
    "set4 = set1 & set2 # пересечение\n",
    "print(set4)\n",
    "set5 = set2 - set1  # set5 = только те элементы, которых нет в set1\n",
    "print(set5)\n"
   ]
  },
  {
   "cell_type": "code",
   "execution_count": 58,
   "id": "eef36f7f",
   "metadata": {},
   "outputs": [
    {
     "data": {
      "text/plain": [
       "{4, 5, 6, 7, 8, 9, 12}"
      ]
     },
     "execution_count": 58,
     "metadata": {},
     "output_type": "execute_result"
    }
   ],
   "source": [
    "set5.add(12)\n",
    "set5"
   ]
  },
  {
   "cell_type": "code",
   "execution_count": 59,
   "id": "3392dec5",
   "metadata": {},
   "outputs": [
    {
     "data": {
      "text/plain": [
       "{5, 6, 7, 8, 9, 12}"
      ]
     },
     "execution_count": 59,
     "metadata": {},
     "output_type": "execute_result"
    }
   ],
   "source": [
    "set5.pop() #Удаляет случайный!!! элемент\n",
    "set5"
   ]
  },
  {
   "cell_type": "code",
   "execution_count": 62,
   "id": "5daa0c36",
   "metadata": {},
   "outputs": [
    {
     "data": {
      "text/plain": [
       "{5, 7, 8, 9, 12}"
      ]
     },
     "execution_count": 62,
     "metadata": {},
     "output_type": "execute_result"
    }
   ],
   "source": [
    "set5.discard(6) #Если элемент не найден в множестве, метод discard() не вызывает ошибку и просто ничего не делает.\n",
    "set5"
   ]
  },
  {
   "cell_type": "code",
   "execution_count": 63,
   "id": "e2858879",
   "metadata": {},
   "outputs": [
    {
     "ename": "KeyError",
     "evalue": "'orange'",
     "output_type": "error",
     "traceback": [
      "\u001b[1;31m---------------------------------------------------------------------------\u001b[0m",
      "\u001b[1;31mKeyError\u001b[0m                                  Traceback (most recent call last)",
      "Cell \u001b[1;32mIn[63], line 2\u001b[0m\n\u001b[0;32m      1\u001b[0m fruits \u001b[38;5;241m=\u001b[39m {\u001b[38;5;124m'\u001b[39m\u001b[38;5;124mapple\u001b[39m\u001b[38;5;124m'\u001b[39m, \u001b[38;5;124m'\u001b[39m\u001b[38;5;124mbanana\u001b[39m\u001b[38;5;124m'\u001b[39m, \u001b[38;5;124m'\u001b[39m\u001b[38;5;124mkiwi\u001b[39m\u001b[38;5;124m'\u001b[39m}\n\u001b[1;32m----> 2\u001b[0m fruits\u001b[38;5;241m.\u001b[39mremove(\u001b[38;5;124m'\u001b[39m\u001b[38;5;124morange\u001b[39m\u001b[38;5;124m'\u001b[39m)\n",
      "\u001b[1;31mKeyError\u001b[0m: 'orange'"
     ]
    }
   ],
   "source": [
    "fruits = {'apple', 'banana', 'kiwi'}\n",
    "fruits.remove('orange')  # Вызовет KeyError, так как 'orange' отсутствует в множестве"
   ]
  },
  {
   "cell_type": "code",
   "execution_count": null,
   "id": "edf3a01c",
   "metadata": {},
   "outputs": [],
   "source": [
    "#update() обновление множества добавлением элементов из другой коллекции (множества, списка, кортежа)\n",
    "fruits = {'apple', 'banana', 'kiwi'}\n",
    "more_fruits = {'orange', 'grape', 'apple'}\n",
    "\n",
    "fruits.update(more_fruits)\n",
    "\n",
    "print(fruits)"
   ]
  }
 ],
 "metadata": {
  "kernelspec": {
   "display_name": "Python 3 (ipykernel)",
   "language": "python",
   "name": "python3"
  },
  "language_info": {
   "codemirror_mode": {
    "name": "ipython",
    "version": 3
   },
   "file_extension": ".py",
   "mimetype": "text/x-python",
   "name": "python",
   "nbconvert_exporter": "python",
   "pygments_lexer": "ipython3",
   "version": "3.11.3"
  }
 },
 "nbformat": 4,
 "nbformat_minor": 5
}
