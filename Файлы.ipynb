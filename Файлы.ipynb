{
 "cells": [
  {
   "cell_type": "markdown",
   "id": "5dd4a2b0",
   "metadata": {},
   "source": [
    "### Работа с файлами"
   ]
  },
  {
   "cell_type": "markdown",
   "id": "b7a89d8b",
   "metadata": {},
   "source": [
    "*Для управления доступом к файлам и правильного закрытия используется ключевое слово ***with***, которое обеспечивает автоматическое закрытие файла после выполнения операций с ним.*"
   ]
  },
  {
   "cell_type": "code",
   "execution_count": null,
   "id": "cef06244",
   "metadata": {},
   "outputs": [],
   "source": [
    "with open(\"filename\", \"mode\") as file:\n",
    "    # Ваш код для работы с файлом\n",
    "    # Файл будет автоматически закрыт после выполнения этого блока\n"
   ]
  },
  {
   "cell_type": "markdown",
   "id": "9a9e34d5",
   "metadata": {},
   "source": [
    "***\"filename\"*** *- это имя файла, который вы хотите открыть.*\n",
    "\n",
    "***\"mode\"*** *- это режим открытия файла. Например, \"r\" для чтения, \"w\" для записи, \"a\" для добавления данных в конец файла и другие.*"
   ]
  },
  {
   "cell_type": "code",
   "execution_count": null,
   "id": "a2361bf6",
   "metadata": {},
   "outputs": [],
   "source": [
    "# Чтение файла:\n",
    "with open(\"myfile.txt\", \"r\") as file:\n",
    "    content = file.read()\n",
    "    print(content)"
   ]
  },
  {
   "cell_type": "code",
   "execution_count": null,
   "id": "e12d1e29",
   "metadata": {},
   "outputs": [],
   "source": [
    "# Запись в файл\n",
    "with open(\"output.txt\", \"w\") as file:\n",
    "    file.write(\"Hello, world!\")\n"
   ]
  },
  {
   "cell_type": "code",
   "execution_count": null,
   "id": "df292ec7",
   "metadata": {},
   "outputs": [],
   "source": [
    "# Добавление данных в конец файла:\n",
    "with open(\"logfile.txt\", \"a\") as file:\n",
    "    file.write(\"Log entry: Something happened\\n\")\n"
   ]
  },
  {
   "cell_type": "code",
   "execution_count": 4,
   "id": "4f562840",
   "metadata": {},
   "outputs": [
    {
     "name": "stdout",
     "output_type": "stream",
     "text": [
      "Файл не найден.\n"
     ]
    }
   ],
   "source": [
    "#Обработка файловой исключительной ситуации:\n",
    "try:\n",
    "    with open(\"nonexistent.txt\", \"r\") as file:\n",
    "        content = file.read()\n",
    "except FileNotFoundError:\n",
    "    print(\"Файл не найден.\")\n"
   ]
  },
  {
   "cell_type": "markdown",
   "id": "0d0cf70c",
   "metadata": {},
   "source": [
    "*Использование* ***with - open*** *гарантирует, что файл будет корректно закрыт после завершения блока кода, даже если возникнут исключения. Это позволяет избежать утечек ресурсов и обеспечивает более безопасную и надежную работу с файлами.*"
   ]
  },
  {
   "cell_type": "code",
   "execution_count": null,
   "id": "7ceb021e",
   "metadata": {},
   "outputs": [],
   "source": []
  }
 ],
 "metadata": {
  "kernelspec": {
   "display_name": "Python 3 (ipykernel)",
   "language": "python",
   "name": "python3"
  },
  "language_info": {
   "codemirror_mode": {
    "name": "ipython",
    "version": 3
   },
   "file_extension": ".py",
   "mimetype": "text/x-python",
   "name": "python",
   "nbconvert_exporter": "python",
   "pygments_lexer": "ipython3",
   "version": "3.11.3"
  }
 },
 "nbformat": 4,
 "nbformat_minor": 5
}
