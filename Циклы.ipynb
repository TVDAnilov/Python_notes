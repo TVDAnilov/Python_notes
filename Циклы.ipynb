{
 "cells": [
  {
   "cell_type": "code",
   "execution_count": 34,
   "id": "541e3a49",
   "metadata": {},
   "outputs": [
    {
     "name": "stdout",
     "output_type": "stream",
     "text": [
      "Меня зовут Alice и мне 30 лет.\n"
     ]
    }
   ],
   "source": [
    "name = \"Alice\"\n",
    "age = 30\n",
    "\n",
    "# Пример 1: Вставка значений переменных в f-строку\n",
    "print(f\"Меня зовут {name} и мне {age} лет.\")  # Вывод: Меня зовут Alice и мне 30 лет."
   ]
  },
  {
   "cell_type": "code",
   "execution_count": 2,
   "id": "4b8b4355",
   "metadata": {},
   "outputs": [
    {
     "name": "stdout",
     "output_type": "stream",
     "text": [
      "1\n",
      "2\n",
      "3\n",
      "4\n",
      "5\n"
     ]
    }
   ],
   "source": [
    "for i in range(1,6):\n",
    "    print(i)"
   ]
  },
  {
   "cell_type": "code",
   "execution_count": 11,
   "id": "11840574",
   "metadata": {},
   "outputs": [],
   "source": [
    "i = 1\n",
    "while i >= 5:\n",
    "    print(i)\n",
    "    i += 1"
   ]
  },
  {
   "cell_type": "code",
   "execution_count": 31,
   "id": "78b3c545",
   "metadata": {},
   "outputs": [
    {
     "name": "stdout",
     "output_type": "stream",
     "text": [
      "яблоко\n",
      "банан\n",
      "груша\n",
      "киви\n",
      "апельсин\n"
     ]
    }
   ],
   "source": [
    "# Обход элементов списка с помощью цикла for\n",
    "fruits = [\"яблоко\", \"банан\", \"груша\", \"киви\", \"апельсин\"]\n",
    "for fruit in fruits:\n",
    "    print(fruit)"
   ]
  },
  {
   "cell_type": "code",
   "execution_count": 32,
   "id": "96a19351",
   "metadata": {},
   "outputs": [
    {
     "name": "stdout",
     "output_type": "stream",
     "text": [
      "Индекс: 0, Фрукт: яблоко\n",
      "Индекс: 1, Фрукт: банан\n",
      "Индекс: 2, Фрукт: груша\n",
      "Индекс: 3, Фрукт: киви\n",
      "Индекс: 4, Фрукт: апельсин\n"
     ]
    }
   ],
   "source": [
    "# Работа с индексами элементов в цикле for с помощью enumerate()\n",
    "fruits = [\"яблоко\", \"банан\", \"груша\", \"киви\", \"апельсин\"]\n",
    "for index, fruit in enumerate(fruits):\n",
    "    print(f\"Индекс: {index}, Фрукт: {fruit}\")"
   ]
  },
  {
   "cell_type": "code",
   "execution_count": 33,
   "id": "3e46b82d",
   "metadata": {},
   "outputs": [
    {
     "name": "stdout",
     "output_type": "stream",
     "text": [
      "Индекс: 0, Фрукт: яблоко\n",
      "Индекс: 1, Фрукт: банан\n",
      "Индекс: 2, Фрукт: груша\n",
      "Индекс: 3, Фрукт: киви\n",
      "Индекс: 4, Фрукт: апельсин\n"
     ]
    }
   ],
   "source": [
    "# Работа с индексами элементов в цикле while\n",
    "fruits = [\"яблоко\", \"банан\", \"груша\", \"киви\", \"апельсин\"]\n",
    "index = 0\n",
    "while index < len(fruits):\n",
    "    print(f\"Индекс: {index}, Фрукт: {fruits[index]}\")\n",
    "    index += 1\n"
   ]
  },
  {
   "cell_type": "code",
   "execution_count": 35,
   "id": "81ebe09d",
   "metadata": {},
   "outputs": [
    {
     "name": "stdout",
     "output_type": "stream",
     "text": [
      "Индекс: 0, Сумма: 3\n",
      "Индекс: 1, Сумма: 9\n"
     ]
    }
   ],
   "source": [
    "(a, b) = (10, 9) #Распаковка\n",
    "# Так же и в цикле\n",
    "for index, (a, b) in enumerate([(1, 2), (3, 6)]):\n",
    "    print(f\"Индекс: {index}, Сумма: {a + b}\")"
   ]
  },
  {
   "cell_type": "markdown",
   "id": "a4aa4e4b",
   "metadata": {},
   "source": [
    "### У словарей есть три метода для перебора элементов: \n",
    " - *for key in dict.keys()*\n",
    " - *for value in dict.values()*\n",
    " - *for key, value in dict.items().*"
   ]
  },
  {
   "cell_type": "code",
   "execution_count": 36,
   "id": "3b3d8b3f",
   "metadata": {},
   "outputs": [
    {
     "name": "stdout",
     "output_type": "stream",
     "text": [
      "apple\n",
      "banana\n",
      "orange\n"
     ]
    }
   ],
   "source": [
    "my_dict = {\"apple\": 1, \"banana\": 2, \"orange\": 3}\n",
    "\n",
    "for key in my_dict.keys():\n",
    "    print(key)"
   ]
  },
  {
   "cell_type": "code",
   "execution_count": 37,
   "id": "ad6e91ae",
   "metadata": {},
   "outputs": [
    {
     "name": "stdout",
     "output_type": "stream",
     "text": [
      "1\n",
      "2\n",
      "3\n"
     ]
    }
   ],
   "source": [
    "my_dict = {\"apple\": 1, \"banana\": 2, \"orange\": 3}\n",
    "\n",
    "for value in my_dict.values():\n",
    "    print(value)\n"
   ]
  },
  {
   "cell_type": "code",
   "execution_count": 38,
   "id": "f6ecdd75",
   "metadata": {},
   "outputs": [
    {
     "name": "stdout",
     "output_type": "stream",
     "text": [
      "Фрукт: apple, Количество: 1\n",
      "Фрукт: banana, Количество: 2\n",
      "Фрукт: orange, Количество: 3\n"
     ]
    }
   ],
   "source": [
    "my_dict = {\"apple\": 1, \"banana\": 2, \"orange\": 3}\n",
    "\n",
    "for key, value in my_dict.items():\n",
    "    print(f\"Фрукт: {key}, Количество: {value}\")"
   ]
  },
  {
   "cell_type": "code",
   "execution_count": null,
   "id": "e5574eab",
   "metadata": {},
   "outputs": [],
   "source": []
  }
 ],
 "metadata": {
  "kernelspec": {
   "display_name": "Python 3 (ipykernel)",
   "language": "python",
   "name": "python3"
  },
  "language_info": {
   "codemirror_mode": {
    "name": "ipython",
    "version": 3
   },
   "file_extension": ".py",
   "mimetype": "text/x-python",
   "name": "python",
   "nbconvert_exporter": "python",
   "pygments_lexer": "ipython3",
   "version": "3.11.3"
  }
 },
 "nbformat": 4,
 "nbformat_minor": 5
}
