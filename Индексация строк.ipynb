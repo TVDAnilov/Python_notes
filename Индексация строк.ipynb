{
 "cells": [
  {
   "cell_type": "code",
   "execution_count": 1,
   "id": "657e1ea3",
   "metadata": {},
   "outputs": [
    {
     "data": {
      "text/plain": [
       "'qwerty'"
      ]
     },
     "execution_count": 1,
     "metadata": {},
     "output_type": "execute_result"
    }
   ],
   "source": [
    "'qwerty'"
   ]
  },
  {
   "cell_type": "code",
   "execution_count": 2,
   "id": "843662ac",
   "metadata": {},
   "outputs": [
    {
     "data": {
      "text/plain": [
       "'q'"
      ]
     },
     "execution_count": 2,
     "metadata": {},
     "output_type": "execute_result"
    }
   ],
   "source": [
    "'qwerty'[0]"
   ]
  },
  {
   "cell_type": "code",
   "execution_count": 3,
   "id": "459ec418",
   "metadata": {},
   "outputs": [
    {
     "data": {
      "text/plain": [
       "'y'"
      ]
     },
     "execution_count": 3,
     "metadata": {},
     "output_type": "execute_result"
    }
   ],
   "source": [
    "'qwerty'[-1]"
   ]
  },
  {
   "cell_type": "code",
   "execution_count": 5,
   "id": "c7337298",
   "metadata": {},
   "outputs": [
    {
     "data": {
      "text/plain": [
       "'rt'"
      ]
     },
     "execution_count": 5,
     "metadata": {},
     "output_type": "execute_result"
    }
   ],
   "source": [
    "'qwerty'[3:5]"
   ]
  },
  {
   "cell_type": "code",
   "execution_count": 6,
   "id": "e6b3803b",
   "metadata": {},
   "outputs": [
    {
     "data": {
      "text/plain": [
       "'ty'"
      ]
     },
     "execution_count": 6,
     "metadata": {},
     "output_type": "execute_result"
    }
   ],
   "source": [
    "'qwerty'[4:]"
   ]
  },
  {
   "cell_type": "code",
   "execution_count": 7,
   "id": "f7ab57a4",
   "metadata": {},
   "outputs": [
    {
     "data": {
      "text/plain": [
       "'qwerty'"
      ]
     },
     "execution_count": 7,
     "metadata": {},
     "output_type": "execute_result"
    }
   ],
   "source": [
    "'qwerty'[:4] + 'qwerty'[4:]"
   ]
  },
  {
   "cell_type": "code",
   "execution_count": 11,
   "id": "d61fa849",
   "metadata": {},
   "outputs": [
    {
     "data": {
      "text/plain": [
       "'wryip'"
      ]
     },
     "execution_count": 11,
     "metadata": {},
     "output_type": "execute_result"
    }
   ],
   "source": [
    "'qwertyuiop'[1:10:2]"
   ]
  },
  {
   "cell_type": "code",
   "execution_count": 12,
   "id": "f57c2fbb",
   "metadata": {},
   "outputs": [
    {
     "data": {
      "text/plain": [
       "'258'"
      ]
     },
     "execution_count": 12,
     "metadata": {},
     "output_type": "execute_result"
    }
   ],
   "source": [
    "'123456789'[1:9:3]"
   ]
  },
  {
   "cell_type": "code",
   "execution_count": 13,
   "id": "02adb14b",
   "metadata": {},
   "outputs": [
    {
     "data": {
      "text/plain": [
       "'147'"
      ]
     },
     "execution_count": 13,
     "metadata": {},
     "output_type": "execute_result"
    }
   ],
   "source": [
    "'123456789'[::3]"
   ]
  },
  {
   "cell_type": "code",
   "execution_count": 14,
   "id": "4ec85cc8",
   "metadata": {},
   "outputs": [
    {
     "data": {
      "text/plain": [
       "10"
      ]
     },
     "execution_count": 14,
     "metadata": {},
     "output_type": "execute_result"
    }
   ],
   "source": [
    "len('0123456789')"
   ]
  },
  {
   "cell_type": "code",
   "execution_count": null,
   "id": "b13554d9",
   "metadata": {},
   "outputs": [],
   "source": []
  }
 ],
 "metadata": {
  "kernelspec": {
   "display_name": "Python 3 (ipykernel)",
   "language": "python",
   "name": "python3"
  },
  "language_info": {
   "codemirror_mode": {
    "name": "ipython",
    "version": 3
   },
   "file_extension": ".py",
   "mimetype": "text/x-python",
   "name": "python",
   "nbconvert_exporter": "python",
   "pygments_lexer": "ipython3",
   "version": "3.11.3"
  }
 },
 "nbformat": 4,
 "nbformat_minor": 5
}
