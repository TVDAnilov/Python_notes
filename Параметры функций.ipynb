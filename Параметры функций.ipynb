{
 "cells": [
  {
   "cell_type": "code",
   "execution_count": 3,
   "id": "322b6475",
   "metadata": {},
   "outputs": [
    {
     "name": "stdout",
     "output_type": "stream",
     "text": [
      "мама мыла раму\n"
     ]
    }
   ],
   "source": [
    "#именованные параметры и параметры по умолчанию\n",
    "def foo(person = 'мама', action = \"мыла\", objects = \"раму\"):\n",
    "    print(person, action, objects)\n",
    "    \n",
    "foo()    "
   ]
  },
  {
   "cell_type": "code",
   "execution_count": 4,
   "id": "ffde0ef7",
   "metadata": {},
   "outputs": [
    {
     "name": "stdout",
     "output_type": "stream",
     "text": [
      "Дочка варила борщ\n",
      "Папа ушел в гараж\n"
     ]
    }
   ],
   "source": [
    "foo(\"Дочка\",\"варила\",\"борщ\")\n",
    "foo(person = \"Папа\",action = \"ушел\",objects = \"в гараж\")"
   ]
  },
  {
   "cell_type": "code",
   "execution_count": 5,
   "id": "6705cca7",
   "metadata": {},
   "outputs": [
    {
     "name": "stdout",
     "output_type": "stream",
     "text": [
      "[1, 2, 3, 100]\n"
     ]
    },
    {
     "data": {
      "text/plain": [
       "[1, 2, 3, 100]"
      ]
     },
     "execution_count": 5,
     "metadata": {},
     "output_type": "execute_result"
    }
   ],
   "source": [
    "some_list = [1,2,3]\n",
    "def add_list(element = 0, list = []):\n",
    "    list.append(element)\n",
    "    print(list)\n",
    "    return list\n",
    "add_list(100, some_list)\n"
   ]
  },
  {
   "cell_type": "code",
   "execution_count": 6,
   "id": "170616e6",
   "metadata": {},
   "outputs": [
    {
     "name": "stdout",
     "output_type": "stream",
     "text": [
      "[5]\n"
     ]
    },
    {
     "data": {
      "text/plain": [
       "[5]"
      ]
     },
     "execution_count": 6,
     "metadata": {},
     "output_type": "execute_result"
    }
   ],
   "source": [
    "add_list(5)"
   ]
  },
  {
   "cell_type": "code",
   "execution_count": 8,
   "id": "0c6dce9e",
   "metadata": {},
   "outputs": [
    {
     "name": "stdout",
     "output_type": "stream",
     "text": [
      "[5, 6]\n",
      "[5, 6]\n",
      "[5, 6, 7]\n",
      "626206356800\n",
      "626206356800\n"
     ]
    }
   ],
   "source": [
    "new_list = add_list(6) # Почему не возвращается список с одним элементом?\n",
    "print(new_list)\n",
    "print(id(add_list(7))) #Потому что при компиляции создается пустой список\n",
    "print(id(new_list))    # в функции add_list, а дальше работа продолжается с ним\n",
    "                       # это видно по id обьектов"
   ]
  },
  {
   "cell_type": "code",
   "execution_count": 9,
   "id": "1f024c21",
   "metadata": {},
   "outputs": [
    {
     "name": "stdout",
     "output_type": "stream",
     "text": [
      "[5, 6, 7, 200, 300]\n",
      "[5, 6, 7, 200, 300]\n"
     ]
    }
   ],
   "source": [
    "# для наглядности\n",
    "new_list.append(200)\n",
    "add_list(300)\n",
    "print(new_list)"
   ]
  },
  {
   "cell_type": "code",
   "execution_count": 10,
   "id": "ca8321cb",
   "metadata": {},
   "outputs": [],
   "source": [
    "# что бы этого избежать, параметр в функции должен быть None и \n",
    "# список создается в коде функции\n",
    "\n",
    "def add_list_pro(element, list = None):\n",
    "    if list == None:\n",
    "        list =[]\n",
    "    list.append(element)\n",
    "    print(list)\n",
    "    return list\n",
    "        "
   ]
  },
  {
   "cell_type": "code",
   "execution_count": 12,
   "id": "b7f4c0d7",
   "metadata": {},
   "outputs": [
    {
     "name": "stdout",
     "output_type": "stream",
     "text": [
      "[6]\n",
      "[6]\n",
      "[7]\n",
      "626206969344\n",
      "626237453568\n"
     ]
    }
   ],
   "source": [
    "new_list = add_list_pro(6) \n",
    "print(new_list)\n",
    "print(id(add_list_pro(7)))\n",
    "print(id(new_list)) "
   ]
  },
  {
   "cell_type": "code",
   "execution_count": null,
   "id": "7c5b070e",
   "metadata": {},
   "outputs": [],
   "source": []
  }
 ],
 "metadata": {
  "kernelspec": {
   "display_name": "Python 3 (ipykernel)",
   "language": "python",
   "name": "python3"
  },
  "language_info": {
   "codemirror_mode": {
    "name": "ipython",
    "version": 3
   },
   "file_extension": ".py",
   "mimetype": "text/x-python",
   "name": "python",
   "nbconvert_exporter": "python",
   "pygments_lexer": "ipython3",
   "version": "3.11.3"
  }
 },
 "nbformat": 4,
 "nbformat_minor": 5
}
