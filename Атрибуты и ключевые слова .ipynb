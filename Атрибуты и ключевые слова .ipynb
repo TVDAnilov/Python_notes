{
 "cells": [
  {
   "cell_type": "markdown",
   "id": "4b5fcc0d",
   "metadata": {},
   "source": [
    "    False: Булевское значение \"ложь\".\n",
    "    True: Булевское значение \"истина\".\n",
    "    None: Отсутствие значения (аналогично null в других языках).\n",
    "    and: Логическая операция \"и\".\n",
    "    as: Создание псевдонима для модуля, класса или функции.\n",
    "    assert: Проверка утверждения (assertion).\n",
    "    break: Прерывание выполнения цикла.\n",
    "    class: Определение класса.\n",
    "    continue: Продолжение выполнения следующей итерации цикла.\n",
    "    def: Определение функции.\n",
    "    del: Удаление переменной или элемента из списка/словаря.\n",
    "    elif: Ветвление \"else if\" (используется внутри конструкции if).\n",
    "    else: Ветвление, выполняемое, если условие в if не истинно.\n",
    "    except: Обработка исключений в блоке try.\n",
    "    finally: Блок кода, выполняемый всегда после блока try (например, для очистки ресурсов).\n",
    "    for: Цикл for для перебора элементов в последовательности.\n",
    "    from: Импорт конкретных атрибутов или функций из модуля.\n",
    "    global: Объявление, что переменная используется в глобальной области видимости.\n",
    "    if: Условный оператор для выполнения кода в зависимости от истинности выражения.\n",
    "    import: Импорт модуля.\n",
    "    in: Проверка вхождения элемента в последовательность.\n",
    "    is: Проверка на идентичность объектов.\n",
    "    lambda: Создание анонимных (безымянных) функций.\n",
    "    nonlocal: Объявление, что переменная используется во внешней области видимости.\n",
    "    not: Логическое отрицание.\n",
    "    or: Логическая операция \"или\".\n",
    "    pass: Пустой оператор (может использоваться для заполнения места).\n",
    "    raise: Генерация исключения.\n",
    "    return: Возврат значения из функции.\n",
    "    try: Блок, в котором обрабатываются исключения.\n",
    "    while: Цикл while для выполнения кода до тех пор, пока условие истинно.\n",
    "    with: Управление контекстом для ресурсов (например, файлы) с автоматическим закрытием.\n",
    "    yield: Используется в функциях-генераторах для возврата значения и сохранения состояния."
   ]
  },
  {
   "cell_type": "markdown",
   "id": "54be0618",
   "metadata": {},
   "source": [
    "В Python есть несколько стандартных атрибутов класса, которые предоставляют информацию о классе и его объектах. Эти атрибуты могут быть использованы для доступа к метаданным класса. Вот некоторые из них:\n",
    "\n",
    "    __doc__: Строка документации (docstring) класса.\n",
    "\n",
    "    __name__: Имя класса в виде строки.\n",
    "\n",
    "    __module__: Имя модуля, в котором определен класс.\n",
    "    \n",
    "    __bases__: Кортеж базовых классов.\n",
    "\n",
    "    __dict__: Словарь, содержащий атрибуты класса.\n",
    "\n",
    "    __class__: Класс объекта (может использоваться для получения информации о типе объекта).\n",
    "\n",
    "    __init__: Ссылка на метод конструктора.\n",
    "\n",
    "    __del__: Ссылка на метод деструктора.\n",
    "\n",
    "    __str__: Ссылка на метод str().\n",
    "\n",
    "    __repr__: Ссылка на метод repr().\n",
    "\n",
    "    __call__: Ссылка на метод, позволяющий вызывать экземпляр класса как функцию.\n",
    "\n",
    "    __getitem__: Ссылка на метод, позволяющий использовать экземпляр как контейнер (например, для доступа к элементам по индексу).\n",
    "\n",
    "    __setitem__: Ссылка на метод, позволяющий устанавливать элементы в контейнере.\n",
    "\n",
    "    __len__: Ссылка на метод, возвращающий длину контейнера.\n",
    "\n",
    "    __iter__: Ссылка на метод, позволяющий итерироваться по экземпляру.\n",
    "\n",
    "    __next__: Ссылка на метод, используемый для получения следующего элемента при итерации.\n",
    "\n",
    "    __contains__: Ссылка на метод, определяющий вхождение элемента в контейнер.\n",
    "    __eq__(self, other): Определяет поведение оператора равенства (==).\n",
    "\n",
    "    __ne__(self, other): Определяет поведение оператора неравенства (!=).\n",
    "\n",
    "    __lt__(self, other): Определяет поведение оператора \"меньше\" (<).\n",
    "\n",
    "    __le__(self, other): Определяет поведение оператора \"меньше или равно\" (<=).\n",
    "\n",
    "    __gt__(self, other): Определяет поведение оператора \"больше\" (>).\n",
    "\n",
    "    __ge__(self, other): Определяет поведение оператора \"больше или равно\" (>=).\n",
    "\n",
    "Эти атрибуты могут быть полезными при работе с классами и объектами в Python. Вы можете получить доступ к ним через точечную нотацию, например: my_object.__class__, MyClass.__name__, и так далее."
   ]
  },
  {
   "cell_type": "code",
   "execution_count": 2,
   "id": "e8a5da22",
   "metadata": {},
   "outputs": [
    {
     "name": "stdout",
     "output_type": "stream",
     "text": [
      "This object is an instance of Car\n",
      "This object is an instance of Motorcycle\n"
     ]
    }
   ],
   "source": [
    "class Vehicle:\n",
    "    def display_type(self):\n",
    "        print(f\"This object is an instance of {self.__class__.__name__}\")\n",
    "\n",
    "class Car(Vehicle):\n",
    "    pass\n",
    "\n",
    "class Motorcycle(Vehicle):\n",
    "    pass\n",
    "\n",
    "car = Car()\n",
    "motorcycle = Motorcycle()\n",
    "\n",
    "car.display_type()       # This object is an instance of Car\n",
    "motorcycle.display_type()  # This object is an instance of Motorcycle\n"
   ]
  },
  {
   "cell_type": "code",
   "execution_count": 3,
   "id": "cfef22d2",
   "metadata": {},
   "outputs": [
    {
     "name": "stdout",
     "output_type": "stream",
     "text": [
      "10\n",
      "15\n"
     ]
    }
   ],
   "source": [
    "# __call__:\n",
    "class Multiplier:\n",
    "    def __init__(self, factor):\n",
    "        self.factor = factor\n",
    "\n",
    "    def __call__(self, x):\n",
    "        return self.factor * x\n",
    "\n",
    "double = Multiplier(2)\n",
    "triple = Multiplier(3)\n",
    "\n",
    "print(double(5))  # 10\n",
    "print(triple(5))  # 15\n"
   ]
  },
  {
   "cell_type": "code",
   "execution_count": 6,
   "id": "df26a401",
   "metadata": {},
   "outputs": [
    {
     "name": "stdout",
     "output_type": "stream",
     "text": [
      "10\n",
      "20\n",
      "30\n"
     ]
    }
   ],
   "source": [
    "#__getitem__, __setitem__:\n",
    "class MyList:\n",
    "    def __init__(self):\n",
    "        self.data = []\n",
    "\n",
    "    def __setitem__(self, index, value):\n",
    "        if index >= len(self.data):\n",
    "            self.data.extend([None] * (index - len(self.data) + 1))\n",
    "        self.data[index] = value\n",
    "\n",
    "    def __getitem__(self, index):\n",
    "        return self.data[index]\n",
    "\n",
    "my_list = MyList()\n",
    "\n",
    "my_list[0] = 10\n",
    "my_list[2] = 30\n",
    "my_list[1] = 20\n",
    "\n",
    "print(my_list[0])  # 10\n",
    "print(my_list[1])  # 20\n",
    "print(my_list[2])  # 30\n",
    "\n"
   ]
  },
  {
   "cell_type": "code",
   "execution_count": 7,
   "id": "fcee2504",
   "metadata": {},
   "outputs": [
    {
     "name": "stdout",
     "output_type": "stream",
     "text": [
      "5\n"
     ]
    }
   ],
   "source": [
    "#__len__:\n",
    "class MyList:\n",
    "    def __init__(self, data):\n",
    "        self.data = data\n",
    "\n",
    "    def __len__(self):\n",
    "        return len(self.data)\n",
    "\n",
    "my_list = MyList([1, 2, 3, 4, 5])\n",
    "\n",
    "print(len(my_list))  # 5\n"
   ]
  },
  {
   "cell_type": "code",
   "execution_count": 8,
   "id": "60b87ea9",
   "metadata": {},
   "outputs": [
    {
     "name": "stdout",
     "output_type": "stream",
     "text": [
      "0\n",
      "1\n",
      "2\n",
      "3\n",
      "4\n"
     ]
    }
   ],
   "source": [
    "#__iter__ и __next__:\n",
    "class CountingNumbers:\n",
    "    def __init__(self, limit):\n",
    "        self.limit = limit\n",
    "        self.current = 0\n",
    "\n",
    "    def __iter__(self):\n",
    "        return self\n",
    "\n",
    "    def __next__(self):\n",
    "        if self.current < self.limit:\n",
    "            self.current += 1\n",
    "            return self.current - 1\n",
    "        else:\n",
    "            raise StopIteration\n",
    "\n",
    "numbers = CountingNumbers(5)\n",
    "\n",
    "for num in numbers:\n",
    "    print(num)\n"
   ]
  },
  {
   "cell_type": "markdown",
   "id": "3997fa42",
   "metadata": {},
   "source": [
    "Цикл for начинает итерацию по объекту numbers. На первой итерации вызывается метод \"__iter__\" этого объекта, который возвращает сам объект numbers.\n",
    "\n",
    "Затем на каждой итерации цикла вызывается метод \"__next__\" объекта numbers. Этот метод генерирует следующее число в последовательности.\n",
    "\n",
    "Цикл продолжает выполняться до тех пор, пока метод \"__next__\" не вызовет исключение StopIteration, что указывает на окончание итерации.\n",
    "\n",
    "В результате выполнения этого кода вы увидите вывод чисел от 0 до 4, так как limit равен 5:"
   ]
  },
  {
   "cell_type": "code",
   "execution_count": 9,
   "id": "b651bc46",
   "metadata": {},
   "outputs": [
    {
     "name": "stdout",
     "output_type": "stream",
     "text": [
      "True\n",
      "False\n"
     ]
    }
   ],
   "source": [
    "# __eq__:\n",
    "class Point:\n",
    "    def __init__(self, x, y):\n",
    "        self.x = x\n",
    "        self.y = y\n",
    "\n",
    "    def __eq__(self, other):\n",
    "        return self.x == other.x and self.y == other.y\n",
    "\n",
    "point1 = Point(1, 2)\n",
    "point2 = Point(1, 2)\n",
    "point3 = Point(3, 4)\n",
    "\n",
    "print(point1 == point2)  # True\n",
    "print(point1 == point3)  # False\n"
   ]
  },
  {
   "cell_type": "code",
   "execution_count": 10,
   "id": "b89e94a7",
   "metadata": {},
   "outputs": [
    {
     "name": "stdout",
     "output_type": "stream",
     "text": [
      "False\n",
      "True\n",
      "False\n",
      "True\n"
     ]
    }
   ],
   "source": [
    "#__gt__ (больше) и __ge__ (больше или равно)\n",
    "class Rectangle:\n",
    "    def __init__(self, width, height):\n",
    "        self.width = width\n",
    "        self.height = height\n",
    "\n",
    "    def area(self):\n",
    "        return self.width * self.height\n",
    "\n",
    "    def __gt__(self, other):\n",
    "        return self.area() > other.area()\n",
    "\n",
    "    def __ge__(self, other):\n",
    "        return self.area() >= other.area()\n",
    "\n",
    "# Создаем два прямоугольника\n",
    "rect1 = Rectangle(3, 4)\n",
    "rect2 = Rectangle(2, 6)\n",
    "\n",
    "# Сравниваем их площади\n",
    "print(rect1 > rect2)   # True (площадь rect1 больше)\n",
    "print(rect1 >= rect2)  # True (площадь rect1 больше или равна)\n",
    "print(rect1 < rect2)   # False\n",
    "print(rect1 <= rect2)  # False\n",
    "\n"
   ]
  },
  {
   "cell_type": "code",
   "execution_count": null,
   "id": "aec7c45e",
   "metadata": {},
   "outputs": [],
   "source": []
  }
 ],
 "metadata": {
  "kernelspec": {
   "display_name": "Python 3 (ipykernel)",
   "language": "python",
   "name": "python3"
  },
  "language_info": {
   "codemirror_mode": {
    "name": "ipython",
    "version": 3
   },
   "file_extension": ".py",
   "mimetype": "text/x-python",
   "name": "python",
   "nbconvert_exporter": "python",
   "pygments_lexer": "ipython3",
   "version": "3.11.3"
  }
 },
 "nbformat": 4,
 "nbformat_minor": 5
}
